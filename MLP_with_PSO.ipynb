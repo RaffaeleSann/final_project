{
 "cells": [
  {
   "cell_type": "code",
   "execution_count": 71,
   "metadata": {},
   "outputs": [],
   "source": [
    "%run PSO.ipynb #da qui possiamousare la funzione PSO"
   ]
  },
  {
   "cell_type": "code",
   "execution_count": 72,
   "metadata": {},
   "outputs": [],
   "source": [
    "import keras\n",
    "import numpy as np\n",
    "from keras.datasets import reuters\n",
    "from keras.models import Sequential\n",
    "from keras.layers import Dense, Activation, Dropout\n",
    "from keras.utils import to_categorical, plot_model\n",
    "from keras.preprocessing.text import Tokenizer\n",
    "from keras.optimizers import SGD, Adam, RMSprop\n",
    "# from tensorflow.keras.layers import Conv2D, MaxPooling2D, AveragePooling2D,Flatten\n",
    "import matplotlib.pyplot as plt\n",
    "import matplotlib.image as mpimg"
   ]
  },
  {
   "attachments": {},
   "cell_type": "markdown",
   "metadata": {},
   "source": [
    "## **Dataset**\n",
    "This is a collection of documents that appeared on Reuters newswire in 1987. The documents were assembled and indexed with categories. Each word is encoded with an integer.\n",
    "\n",
    "The mean number of words per document, grouped by class, is between 93 and 1263 on the training set.\n"
   ]
  },
  {
   "cell_type": "code",
   "execution_count": 73,
   "metadata": {},
   "outputs": [],
   "source": [
    "(x_train, y_train), (x_test, y_test) = reuters.load_data(num_words=10000, test_split=0.2)\n"
   ]
  },
  {
   "cell_type": "code",
   "execution_count": 74,
   "metadata": {},
   "outputs": [
    {
     "name": "stdout",
     "output_type": "stream",
     "text": [
      "8982 train sequences\n",
      "2246 test sequences\n"
     ]
    }
   ],
   "source": [
    "print(len(x_train), 'train sequences')\n",
    "print(len(x_test), 'test sequences')"
   ]
  },
  {
   "cell_type": "code",
   "execution_count": 75,
   "metadata": {},
   "outputs": [
    {
     "name": "stdout",
     "output_type": "stream",
     "text": [
      "46 classes\n"
     ]
    }
   ],
   "source": [
    "num_classes = np.max(y_train) + 1\n",
    "print(num_classes, 'classes')"
   ]
  },
  {
   "cell_type": "code",
   "execution_count": 76,
   "metadata": {},
   "outputs": [
    {
     "name": "stdout",
     "output_type": "stream",
     "text": [
      "Vectorizing sequence data...\n",
      "x_train shape: (8982, 10000)\n",
      "x_test shape: (2246, 10000)\n"
     ]
    }
   ],
   "source": [
    "print('Vectorizing sequence data...')\n",
    "tokenizer = Tokenizer(num_words=10000)\n",
    "x_train = tokenizer.sequences_to_matrix(x_train, mode='binary')\n",
    "x_test = tokenizer.sequences_to_matrix(x_test, mode='binary')\n",
    "print('x_train shape:', x_train.shape)\n",
    "print('x_test shape:', x_test.shape)"
   ]
  },
  {
   "cell_type": "code",
   "execution_count": 77,
   "metadata": {},
   "outputs": [
    {
     "name": "stdout",
     "output_type": "stream",
     "text": [
      "Convert class vector to binary class matrix for use with categorical_crossentropy\n",
      "y_train shape: (8982, 46)\n",
      "y_test shape: (2246, 46)\n"
     ]
    }
   ],
   "source": [
    "print('Convert class vector to binary class matrix for use with categorical_crossentropy')\n",
    "y_train = keras.utils.to_categorical(y_train, num_classes)\n",
    "y_test = keras.utils.to_categorical(y_test, num_classes)\n",
    "print('y_train shape:', y_train.shape)\n",
    "print('y_test shape:', y_test.shape)"
   ]
  },
  {
   "attachments": {},
   "cell_type": "markdown",
   "metadata": {},
   "source": [
    "## **Multi-layer Perceptron**"
   ]
  },
  {
   "cell_type": "code",
   "execution_count": 78,
   "metadata": {},
   "outputs": [],
   "source": [
    "from keras.callbacks import EarlyStopping\n",
    "\n",
    "def MLP(particle_position):\n",
    "    '''This function returns the accuracy of a neural network model with the parameter set as the component of the particle position.\n",
    "     The first component of the position will be the batch size, the second willl be the optimizer and the third will be the learning rate. \n",
    "     particle_position[0]: batch_size\n",
    "     particle_position[1]: optimizer (<1: SGD; within [1,2): SGD with Momentum; within [2,3): Adam; within [3,inf]: RMSPROP )\n",
    "     particle_position[2]: learning_rate'''\n",
    "    \n",
    "    batch_s = particle_position[0]\n",
    "    batch_s = int(batch_s)\n",
    "    optimiz = particle_position[1]\n",
    "    lr = particle_position[2]\n",
    "    num_neuron = particle_position[3]\n",
    "    \n",
    "    model = Sequential()\n",
    "    model.add(Dense(int(num_neuron), input_shape=(10000,)))\n",
    "    model.add(Activation('relu'))\n",
    "    model.add(Dropout(0.5))\n",
    "    model.add(Dense(num_classes))\n",
    "    model.add(Activation('softmax'))\n",
    "\n",
    "    early_stopping = EarlyStopping(monitor='val_accuracy', min_delta = 0.001, patience=3, verbose=0, mode='max', baseline=0.97)\n",
    "    callbacks = [early_stopping]\n",
    "\n",
    "    if optimiz < 1:\n",
    "        #use SGD\n",
    "        opt = SGD(learning_rate = lr)\n",
    "        \n",
    "    elif optimiz >=1 and optimiz < 2:\n",
    "        #use SGD with Momentum\n",
    "        opt = SGD(momentum = 0.9, learning_rate = lr)\n",
    "\n",
    "    elif optimiz >= 2 and optimiz < 3:\n",
    "        #use ADAM\n",
    "        opt = Adam(learning_rate = lr)\n",
    "\n",
    "    else:\n",
    "        #use RMSPROP\n",
    "        opt = RMSprop(learning_rate = lr)\n",
    "\n",
    "    model.compile(optimizer= opt,\n",
    "                loss='categorical_crossentropy',\n",
    "                metrics=['accuracy'])\n",
    "    \n",
    "    history = model.fit(x_train, y_train,\n",
    "                    epochs=20,\n",
    "                    batch_size=batch_s,\n",
    "                    validation_split=0.2,\n",
    "                    callbacks=callbacks, \n",
    "                    verbose = 0)\n",
    "    \n",
    "    last_accuracy = history.history['val_accuracy'][-1]\n",
    "\n",
    "    return last_accuracy"
   ]
  },
  {
   "attachments": {},
   "cell_type": "markdown",
   "metadata": {},
   "source": [
    "We use a swarm with 10 particles of dimension 4. The first dimension is the batch size, the seocnd is the type of optimizer (it can be 4 possible type), the third dimension is the learning rate and the fourth dimension is the number of neurons for the inner layer."
   ]
  },
  {
   "cell_type": "code",
   "execution_count": 79,
   "metadata": {},
   "outputs": [
    {
     "name": "stdout",
     "output_type": "stream",
     "text": [
      "Particle position:  [array([5.42966500e+01, 2.48429718e+00, 3.33831532e-02, 3.78413666e+02]), array([3.18242024e+01, 2.62873259e+00, 5.00943810e-02, 4.64377625e+02]), array([2.33250048e+01, 1.26905645e+00, 9.41141113e-03, 4.83439593e+02]), array([8.31362834e+01, 3.54270622e+00, 2.83504250e-02, 3.68204784e+02]), array([4.96154842e+01, 2.14843405e+00, 6.33929871e-02, 5.79671764e+02]), array([1.73191480e+01, 2.84447299e+00, 4.90601542e-03, 5.66756242e+02]), array([5.93857000e+01, 1.57693827e+00, 4.79046284e-02, 9.24872085e+01]), array([1.21920290e+02, 1.70659961e+00, 9.32428343e-02, 2.99618301e+02]), array([5.03808696e+01, 1.85277735e+00, 7.70111020e-02, 3.86610215e+02]), array([9.40185622e+01, 3.27166619e+00, 5.94132971e-02, 1.36654731e+02])]\n",
      "Starting swarm position:  [array([5.42966500e+01, 2.48429718e+00, 3.33831532e-02, 3.78413666e+02]), array([3.18242024e+01, 2.62873259e+00, 5.00943810e-02, 4.64377625e+02]), array([2.33250048e+01, 1.26905645e+00, 9.41141113e-03, 4.83439593e+02]), array([8.31362834e+01, 3.54270622e+00, 2.83504250e-02, 3.68204784e+02]), array([4.96154842e+01, 2.14843405e+00, 6.33929871e-02, 5.79671764e+02]), array([1.73191480e+01, 2.84447299e+00, 4.90601542e-03, 5.66756242e+02]), array([5.93857000e+01, 1.57693827e+00, 4.79046284e-02, 9.24872085e+01]), array([1.21920290e+02, 1.70659961e+00, 9.32428343e-02, 2.99618301e+02]), array([5.03808696e+01, 1.85277735e+00, 7.70111020e-02, 3.86610215e+02]), array([9.40185622e+01, 3.27166619e+00, 5.94132971e-02, 1.36654731e+02])] \n",
      " with a global optimum of:  [0.8030049800872803]\n",
      "Iteration  0\n",
      "Swarm position:  [array([7.70133655e+01, 2.43752748e+00, 3.43831532e-02, 3.59046962e+02]), array([4.30229550e+01, 2.51404744e+00, 5.10943810e-02, 4.42535093e+02]), array([6.64329084e+01, 1.46126132e+00, 1.04114111e-02, 4.63674715e+02]), array([9.55609628e+01, 2.69947269e+00, 2.93504250e-02, 3.55398357e+02]), array([5.35045877e+01, 2.00466207e+00, 6.43929871e-02, 4.82537734e+02]), array([2.19738767e+01, 2.37917311e+00, 5.90601542e-03, 4.35434806e+02]), array([7.89649732e+01, 1.59103797e+00, 4.89046284e-02, 1.39558154e+02]), array([1.21920290e+02, 1.70659961e+00, 9.32428343e-02, 2.99618301e+02]), array([5.54296196e+01, 1.81010945e+00, 7.80111020e-02, 3.53313596e+02]), array([1.00301606e+02, 3.24365244e+00, 6.04132971e-02, 1.94110256e+02])]\n",
      "GLOBAL OPTIMUM:  0.810239315032959 GLOBAL OPT POSITION:  [5.54296196e+01 1.81010945e+00 7.80111020e-02 3.53313596e+02] evaluation:  0.810239315032959\n",
      "Iteration  1\n",
      "Swarm position:  [array([9.17417848e+01, 2.24886570e+00, 3.53831532e-02, 3.40951300e+02]), array([3.09624063e+01, 2.46295400e+00, 5.20943810e-02, 4.16464655e+02]), array([9.97975168e+01, 1.63439340e+00, 1.14114111e-02, 3.92248287e+02]), array([7.08304318e+01, 2.66146100e+00, 3.03504250e-02, 3.64000188e+02]), array([5.78365968e+01, 1.77830549e+00, 6.53929871e-02, 3.62759453e+02]), array([2.91468589e+01, 2.86868268e+00, 6.90601542e-03, 5.86207186e+02]), array([8.55798493e+01, 1.70436900e+00, 4.99046284e-02, 1.97317814e+02]), array([1.01097103e+02, 1.72906145e+00, 8.66872296e-02, 3.12500007e+02]), array([5.99734946e+01, 1.77170833e+00, 7.89111020e-02, 3.23346639e+02]), array([7.65102416e+01, 3.02490523e+00, 6.14132971e-02, 2.53868493e+02])]\n",
      "GLOBAL OPTIMUM:  0.810239315032959 GLOBAL OPT POSITION:  [5.54296196e+01 1.81010945e+00 7.80111020e-02 3.53313596e+02] evaluation:  0.810239315032959\n",
      "Iteration  2\n",
      "Swarm position:  [array([8.00409255e+01, 2.41591641e+00, 3.63831532e-02, 3.29802946e+02]), array([2.47842264e+01, 2.25771026e+00, 5.30943810e-02, 4.46131086e+02]), array([1.23641451e+02, 1.84580002e+00, 1.24114111e-02, 3.10789043e+02]), array([5.57518144e+01, 2.58228005e+00, 3.13504250e-02, 3.72641882e+02]), array([6.15281224e+01, 1.58968694e+00, 6.63929871e-02, 2.52670942e+02]), array([2.79856090e+01, 2.93215046e+00, 7.90601542e-03, 5.22634176e+02]), array([7.30700929e+01, 1.81000766e+00, 5.03819199e-02, 2.28410140e+02]), array([6.94766296e+01, 1.77013916e+00, 8.05074591e-02, 3.44287916e+02]), array([5.90101947e+01, 1.76389343e+00, 7.78868954e-02, 3.10968007e+02]), array([4.49987121e+01, 2.38782802e+00, 6.24132971e-02, 3.42032295e+02])]\n",
      "GLOBAL OPTIMUM:  0.810239315032959 GLOBAL OPT POSITION:  [5.54296196e+01 1.81010945e+00 7.80111020e-02 3.53313596e+02] evaluation:  0.810239315032959\n",
      "Iteration  3\n",
      "Swarm position:  [array([6.13099752e+01, 2.38439284e+00, 3.73831532e-02, 3.56039408e+02]), array([3.05900734e+01, 2.14184297e+00, 5.40943810e-02, 4.48524764e+02]), array([6.29107856e+01, 1.71134084e+00, 1.34114111e-02, 4.00824992e+02]), array([9.28603740e+01, 3.85619967e+00, 3.23504250e-02, 3.71365418e+02]), array([6.21296424e+01, 1.47885227e+00, 6.73929871e-02, 1.54723254e+02]), array([3.04671619e+01, 2.46502052e+00, 8.90601542e-03, 5.94416407e+02]), array([6.26018789e+01, 1.60166258e+00, 5.13819199e-02, 1.06126394e+02]), array([4.08954108e+01, 1.82157551e+00, 7.42954807e-02, 3.74593749e+02]), array([5.78901718e+01, 1.85760953e+00, 7.71200208e-02, 3.94424651e+02]), array([7.08685931e+01, 2.45139233e+00, 6.34132971e-02, 2.52501790e+02])]\n",
      "GLOBAL OPTIMUM:  0.815804123878479 GLOBAL OPT POSITION:  [6.29107856e+01 1.71134084e+00 1.34114111e-02 4.00824992e+02] evaluation:  0.815804123878479\n",
      "Iteration  4\n",
      "Swarm position:  [array([5.14748721e+01, 2.33294022e+00, 2.61440048e-02, 3.91179058e+02]), array([4.24237362e+01, 2.74150985e+00, 3.31368825e-02, 4.59945348e+02]), array([8.25318697e+00, 1.59032758e+00, 1.43114111e-02, 4.81857346e+02]), array([1.14370302e+02, 3.78234318e+00, 2.69161217e-02, 3.79366092e+02]), array([6.26316593e+01, 1.68243848e+00, 4.52113851e-02, 2.87784806e+02]), array([3.41698129e+01, 2.03478399e+00, 4.32669801e-03, 5.51671368e+02]), array([6.01614656e+01, 1.41530935e+00, 3.46421368e-02, 1.13415148e+02]), array([3.00402771e+01, 1.77504114e+00, 5.27277122e-02, 3.98267661e+02]), array([5.37453700e+01, 1.85458576e+00, 7.29416090e-02, 4.18990974e+02]), array([1.01183599e+02, 3.41573787e+00, 4.21138981e-02, 2.38116863e+02])]\n",
      "GLOBAL OPTIMUM:  0.815804123878479 GLOBAL OPT POSITION:  [6.29107856e+01 1.71134084e+00 1.34114111e-02 4.00824992e+02] evaluation:  0.815804123878479\n",
      "Iteration  5\n",
      "Swarm position:  [array([4.69505148e+01, 2.19379836e+00, 1.22238200e-02, 4.24235627e+02]), array([5.66438135e+01, 3.03175564e+00, 4.79648159e-03, 4.62220150e+02]), array([6.62989083e+01, 1.74101017e+00, 1.46817935e-02, 4.24956009e+02]), array([1.26300246e+02, 3.65862467e+00, 2.13307668e-02, 3.88822723e+02]), array([6.31568683e+01, 1.86710135e+00, 2.15612904e-02, 4.61299233e+02]), array([3.82847638e+01, 1.54194575e+00, 1.11337848e-03, 4.54370045e+02]), array([9.03575856e+01, 1.42242905e+00, 3.36848135e-02, 2.46500782e+02]), array([4.72072513e+01, 1.72555973e+00, 5.37277122e-02, 3.31549853e+02]), array([5.34452697e+01, 1.84427184e+00, 6.14658121e-02, 3.32090298e+02]), array([1.27765841e+02, 3.99128509e+00, 2.19903615e-02, 2.64010996e+02])]\n",
      "GLOBAL OPTIMUM:  0.820812463760376 GLOBAL OPT POSITION:  [6.62989083e+01 1.74101017e+00 1.46817935e-02 4.24956009e+02] evaluation:  0.820812463760376\n",
      "Iteration  6\n",
      "Swarm position:  [array([4.48696007e+01, 1.86671239e+00, 1.65109572e-03, 4.54023166e+02]), array([7.04433365e+01, 3.15544446e+00, 2.02192961e-02, 4.51741024e+02]), array([1.18540058e+02, 1.87662450e+00, 1.50151375e-02, 3.73744805e+02]), array([1.21193679e+02, 3.09085095e+00, 1.40007974e-02, 4.12344482e+02]), array([6.32388662e+01, 1.90925823e+00, 2.14588250e-03, 4.07484594e+02]), array([3.59888885e+01, 2.25552751e+00, 2.11337848e-03, 4.79841108e+02]), array([1.08782219e+02, 1.89466783e+00, 3.26981461e-02, 3.47681427e+02]), array([6.72093696e+01, 1.68598445e+00, 4.42476665e-02, 2.74260752e+02]), array([5.99021807e+01, 1.79843078e+00, 5.59125349e-02, 2.89532576e+02]), array([1.09029438e+02, 3.80261958e+00, 1.45993914e-03, 3.60245346e+02])]\n",
      "GLOBAL OPTIMUM:  0.820812463760376 GLOBAL OPT POSITION:  [6.62989083e+01 1.74101017e+00 1.46817935e-02 4.24956009e+02] evaluation:  0.820812463760376\n",
      "Iteration  7\n",
      "Swarm position:  [array([4.73889623e+01, 1.56252240e+00, 8.27854832e-03, 4.70501491e+02]), array([7.89957096e+01, 2.86726216e+00, 3.64193350e-02, 4.56987565e+02]), array([1.04246815e+02, 1.91555520e+00, 1.44643459e-02, 4.63559009e+02]), array([1.19196450e+02, 2.04869402e+00, 7.60371328e-03, 4.34605999e+02]), array([6.46618051e+01, 1.74638487e+00, 3.14588250e-03, 1.26074596e+02]), array([4.50501352e+01, 2.73880718e+00, 3.11337848e-03, 4.99384299e+02]), array([1.16502887e+02, 1.51945050e+00, 3.36981461e-02, 1.06311613e+02]), array([8.51710863e+01, 1.67070478e+00, 2.76061440e-02, 2.87870858e+02]), array([6.38948300e+01, 1.74625806e+00, 5.69125349e-02, 4.55566208e+02]), array([1.21172222e+02, 3.94475446e+00, 1.45505430e-02, 4.65692178e+02])]\n",
      "GLOBAL OPTIMUM:  0.820812463760376 GLOBAL OPT POSITION:  [6.62989083e+01 1.74101017e+00 1.46817935e-02 4.24956009e+02] evaluation:  0.820812463760376\n",
      "Iteration  8\n",
      "Swarm position:  [array([5.04179241e+01, 1.30688503e+00, 1.83359864e-03, 4.63601405e+02]), array([3.98612742e+01, 2.63251957e+00, 3.53828101e-02, 4.53858522e+02]), array([1.23475857e+01, 1.52065616e+00, 1.42034482e-02, 4.83020514e+02]), array([1.10359364e+02, 1.10763433e+00, 4.95240830e-03, 4.51103353e+02]), array([6.18269807e+01, 1.46385706e+00, 4.14588250e-03, 1.19343415e+02]), array([4.98793215e+01, 2.72909560e+00, 4.11337848e-03, 4.59790851e+02]), array([1.23042448e+02, 1.23258167e+00, 2.72170124e-02, 2.76198781e+02]), array([7.63116666e+01, 1.70454800e+00, 2.86061440e-02, 3.00344680e+02]), array([5.57754697e+01, 1.81128054e+00, 5.79125349e-02, 3.67452695e+02]), array([9.84399455e+01, 3.67173187e+00, 8.85098617e-03, 3.94600998e+02])]\n",
      "GLOBAL OPTIMUM:  0.820812463760376 GLOBAL OPT POSITION:  [6.62989083e+01 1.74101017e+00 1.46817935e-02 4.24956009e+02] evaluation:  0.820812463760376\n",
      "Iteration  9\n",
      "Swarm position:  [array([5.43939429e+01, 1.57368614e+00, 2.83359864e-03, 4.62421890e+02]), array([5.57071077e+01, 2.35516863e+00, 9.17774383e-02, 4.57770270e+02]), array([9.92838685e+00, 1.45159228e+00, 1.52034482e-02, 3.75320473e+02]), array([1.05655440e+02, 2.29655179e+00, 5.95240830e-03, 4.18828174e+02]), array([6.20057324e+01, 1.53453958e+00, 5.14588250e-03, 3.19343415e+02]), array([5.70029719e+01, 1.52439301e+00, 5.11337848e-03, 4.38166420e+02]), array([1.02474429e+02, 1.31566625e+00, 1.90930445e-02, 4.02941435e+02]), array([6.59697056e+01, 1.73110199e+00, 2.64497001e-02, 3.19002604e+02]), array([5.29657062e+01, 1.84615135e+00, 5.89125349e-02, 2.73345809e+02]), array([7.61855792e+01, 3.34830330e+00, 1.81013128e-02, 3.22957130e+02])]\n",
      "GLOBAL OPTIMUM:  0.820812463760376 GLOBAL OPT POSITION:  [6.62989083e+01 1.74101017e+00 1.46817935e-02 4.24956009e+02] evaluation:  0.820812463760376\n"
     ]
    },
    {
     "ename": "ValueError",
     "evalue": "not enough values to unpack (expected 4, got 3)",
     "output_type": "error",
     "traceback": [
      "\u001b[1;31m---------------------------------------------------------------------------\u001b[0m",
      "\u001b[1;31mValueError\u001b[0m                                Traceback (most recent call last)",
      "\u001b[1;32m~\\AppData\\Local\\Temp\\ipykernel_9924\\96976925.py\u001b[0m in \u001b[0;36m<module>\u001b[1;34m\u001b[0m\n\u001b[1;32m----> 1\u001b[1;33m best_positions, evaluation, best_parameter, best_accuracy = PSO(swarm_size = 10,\n\u001b[0m\u001b[0;32m      2\u001b[0m                                     \u001b[0mdim\u001b[0m \u001b[1;33m=\u001b[0m \u001b[1;36m4\u001b[0m\u001b[1;33m,\u001b[0m\u001b[1;33m\u001b[0m\u001b[1;33m\u001b[0m\u001b[0m\n\u001b[0;32m      3\u001b[0m                                     \u001b[0mevaluation_funct\u001b[0m \u001b[1;33m=\u001b[0m \u001b[0mMLP\u001b[0m\u001b[1;33m,\u001b[0m\u001b[1;33m\u001b[0m\u001b[1;33m\u001b[0m\u001b[0m\n\u001b[0;32m      4\u001b[0m                                     \u001b[0mlower_bound\u001b[0m\u001b[1;33m=\u001b[0m\u001b[1;33m[\u001b[0m\u001b[1;36m0\u001b[0m\u001b[1;33m,\u001b[0m\u001b[1;36m0\u001b[0m\u001b[1;33m,\u001b[0m\u001b[1;36m0.001\u001b[0m\u001b[1;33m,\u001b[0m \u001b[1;36m90\u001b[0m\u001b[1;33m]\u001b[0m\u001b[1;33m,\u001b[0m\u001b[1;33m\u001b[0m\u001b[1;33m\u001b[0m\u001b[0m\n\u001b[0;32m      5\u001b[0m                                     \u001b[0mupper_bound\u001b[0m \u001b[1;33m=\u001b[0m \u001b[1;33m[\u001b[0m\u001b[1;36m128\u001b[0m\u001b[1;33m,\u001b[0m\u001b[1;36m4\u001b[0m\u001b[1;33m,\u001b[0m\u001b[1;36m0.1\u001b[0m\u001b[1;33m,\u001b[0m \u001b[1;36m600\u001b[0m\u001b[1;33m]\u001b[0m\u001b[1;33m,\u001b[0m\u001b[1;33m\u001b[0m\u001b[1;33m\u001b[0m\u001b[0m\n",
      "\u001b[1;31mValueError\u001b[0m: not enough values to unpack (expected 4, got 3)"
     ]
    }
   ],
   "source": [
    "best_positions, evaluation, best_parameter, best_accuracy = PSO(swarm_size = 10,\n",
    "                                    dim = 4,\n",
    "                                    evaluation_funct = MLP,\n",
    "                                    lower_bound=[10,0,0.001, 90],\n",
    "                                    upper_bound = [128,4,0.1, 600],\n",
    "                                    v_max = [64,2,0.001, 200],\n",
    "                                    problem = 'maximum',\n",
    "                                    max_iteration = 10,\n",
    "                                    termination_criteria = ['fixed_iteration', 'swarm_radius'],\n",
    "                                    max_tol = 0.1)\n",
    "\n",
    "print('Best position found: ', best_parameter, 'with an accuracy of: ',best_accuracy)"
   ]
  },
  {
   "cell_type": "code",
   "execution_count": 80,
   "metadata": {},
   "outputs": [
    {
     "data": {
      "text/plain": [
       "[0.815247654914856,\n",
       " 0.815247654914856,\n",
       " 0.815247654914856,\n",
       " 0.815804123878479,\n",
       " 0.816360592842102,\n",
       " 0.816360592842102,\n",
       " 0.8202559947967529,\n",
       " 0.8202559947967529,\n",
       " 0.8202559947967529,\n",
       " 0.8202559947967529,\n",
       " 0.8202559947967529]"
      ]
     },
     "execution_count": 80,
     "metadata": {},
     "output_type": "execute_result"
    }
   ],
   "source": [
    "evaluation"
   ]
  },
  {
   "cell_type": "code",
   "execution_count": 81,
   "metadata": {},
   "outputs": [
    {
     "data": {
      "image/png": "[encoded data removed]",
      "text/plain": [
       "<Figure size 640x480 with 1 Axes>"
      ]
     },
     "metadata": {},
     "output_type": "display_data"
    }
   ],
   "source": [
    "# Let's plot the best evaluation function (in this case the best accuracy) found for each iteration.\n",
    "plt.plot(list(range(len(evaluation))), evaluation)\n",
    "plt.xlabel('Iteration')\n",
    "plt.ylabel('Accuracy')\n",
    "plt.show()"
   ]
  },
  {
   "cell_type": "code",
   "execution_count": 68,
   "metadata": {},
   "outputs": [
    {
     "ename": "NameError",
     "evalue": "name 'best_positions' is not defined",
     "output_type": "error",
     "traceback": [
      "\u001b[1;31m---------------------------------------------------------------------------\u001b[0m",
      "\u001b[1;31mNameError\u001b[0m                                 Traceback (most recent call last)",
      "\u001b[1;32m~\\AppData\\Local\\Temp\\ipykernel_9924\\2387122922.py\u001b[0m in \u001b[0;36m<module>\u001b[1;34m\u001b[0m\n\u001b[1;32m----> 1\u001b[1;33m \u001b[0mprimi\u001b[0m \u001b[1;33m=\u001b[0m \u001b[1;33m[\u001b[0m\u001b[0mi\u001b[0m\u001b[1;33m[\u001b[0m\u001b[1;36m0\u001b[0m\u001b[1;33m]\u001b[0m \u001b[1;32mfor\u001b[0m \u001b[0mi\u001b[0m \u001b[1;32min\u001b[0m \u001b[0mbest_positions\u001b[0m\u001b[1;33m]\u001b[0m\u001b[1;33m\u001b[0m\u001b[1;33m\u001b[0m\u001b[0m\n\u001b[0m\u001b[0;32m      2\u001b[0m \u001b[0mprint\u001b[0m\u001b[1;33m(\u001b[0m\u001b[0mprimi\u001b[0m\u001b[1;33m)\u001b[0m\u001b[1;33m\u001b[0m\u001b[1;33m\u001b[0m\u001b[0m\n",
      "\u001b[1;31mNameError\u001b[0m: name 'best_positions' is not defined"
     ]
    }
   ],
   "source": [
    "batch_size = [iter[0] for iter in best_positions]\n",
    "optimizer = [iter[1] for iter in best_positions]\n",
    "learning_rate = [iter[2] for iter in best_positions]\n",
    "num_neuron = [iter[3] for iter in best_positions]\n",
    "\n",
    "\n"
   ]
  },
  {
   "cell_type": "code",
   "execution_count": null,
   "metadata": {},
   "outputs": [],
   "source": []
  }
 ],
 "metadata": {
  "kernelspec": {
   "display_name": "base",
   "language": "python",
   "name": "python3"
  },
  "language_info": {
   "codemirror_mode": {
    "name": "ipython",
    "version": 3
   },
   "file_extension": ".py",
   "mimetype": "text/x-python",
   "name": "python",
   "nbconvert_exporter": "python",
   "pygments_lexer": "ipython3",
   "version": "3.9.13"
  },
  "orig_nbformat": 4
 },
 "nbformat": 4,
 "nbformat_minor": 2
}
