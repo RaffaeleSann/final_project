{
 "cells": [
  {
   "attachments": {},
   "cell_type": "markdown",
   "metadata": {},
   "source": [
    "# **Particle Swarm optimization**\n",
    "class Particle:\n",
    "- Define the particle object with the **__init__**. Every particle must have a position, a velocity.\n",
    "- Define a function, called **FitnessCalculator**, that computes the fitness value of the particle. Its indipendent variable is the **accuracy metric** of the neural network.\n",
    "- Define a function, called **PositionCalculator**\n",
    "- Define a function, called **VelocityCalculator**\n"
   ]
  },
  {
   "cell_type": "code",
   "execution_count": 205,
   "metadata": {},
   "outputs": [],
   "source": [
    "import numpy as np\n",
    "import random\n",
    "import particle"
   ]
  },
  {
   "cell_type": "code",
   "execution_count": 206,
   "metadata": {},
   "outputs": [],
   "source": [
    "def InitializeSwarm(swarm_size, dimensionality, lower_bound, upper_bound):\n",
    "    '''It takes as input the swarm size (number of particles I want to create, the dimensionality of the swarm (number of parameter for each particle) and the lower and upper bound of the parameter (that are two lists))'''\n",
    "\n",
    "    #np.random.seed(3)\n",
    "    # Usually the positions of particles are initialized to uniformly cover the search space\n",
    "    swarm_list = []\n",
    "    for particle in range(swarm_size):\n",
    "        position = np.random.uniform(lower_bound, upper_bound, dimensionality)\n",
    "\n",
    "        velocity = np.zeros(dimensionality)\n",
    "        # velocity = np.random.random(dimensionality)\n",
    "\n",
    "        part = Particle(position, velocity)\n",
    "        swarm_list.append(part)\n",
    "\n",
    "    return swarm_list"
   ]
  },
  {
   "cell_type": "code",
   "execution_count": 207,
   "metadata": {},
   "outputs": [],
   "source": [
    "# Let's first define the function we want to use for the evaluation:\n",
    "\n",
    "def f(lista):\n",
    "    '''Definisco una funzione f che prende in input una lista di tre elementi (ovviamente va cambiata se cambio la swarm size)'''\n",
    "    return(lista[0]**2+lista[1]**2+lista[2]**2)"
   ]
  },
  {
   "cell_type": "code",
   "execution_count": 208,
   "metadata": {},
   "outputs": [],
   "source": [
    "def global_optimum(swarm):\n",
    "    '''takes as input a swarm of particles and return the position of global optimum and the value of the fitness function in that global optimum'''\n",
    "\n",
    "    global_opt = (min([particle.bestfit for particle in swarm]))\n",
    "    best_global_position = swarm[np.argmin(np.array([particle.bestfit for particle in swarm]))].position\n",
    "\n",
    "    return best_global_position, global_opt  "
   ]
  },
  {
   "cell_type": "code",
   "execution_count": 209,
   "metadata": {},
   "outputs": [],
   "source": [
    "def acceleration_coefficient(lower_bound, upper_bound):\n",
    "    '''It takes as input two vector: lower_bound is a vector containing the minimum element which can assume each parameter and upper_buond contains the maximum. e.g. for parameter j which assume value in range (aj,bj), the j-esimo element of lower_bound will be aj and the j-esimo element of upper_bund will be bj'''\n",
    "\n",
    "    #random.seed(3)\n",
    "    a1 = random.random()\n",
    "    a2 = random.random()\n",
    "\n",
    "    c1 = a1*(np.array(upper_bound)-np.array(lower_bound))\n",
    "    c2 = a2*(np.array(upper_bound)-np.array(lower_bound))\n",
    "\n",
    "    return c1,c2\n"
   ]
  },
  {
   "cell_type": "code",
   "execution_count": 210,
   "metadata": {},
   "outputs": [],
   "source": [
    "def PSO_inizialization(swarm_size, dim, evaluation_funct, lower_bound, upper_bound):\n",
    "    swarm = InitializeSwarm(swarm_size, dim, lower_bound, upper_bound)\n",
    "\n",
    "    #First we need to evaluate each particle\n",
    "\n",
    "    for particle in swarm:\n",
    "        particle.FitnessCalculator(particle.position, evaluation_funct)\n",
    "\n",
    "        # When we inizialize the swarm we need also to calculate the local optimum:\n",
    "        particle.BestLocal(problem = 'minimum')\n",
    "\n",
    "    return(swarm)"
   ]
  },
  {
   "cell_type": "code",
   "execution_count": 211,
   "metadata": {},
   "outputs": [],
   "source": [
    "def PSO_alg(swarm, lower_bound, upper_bound, v_max, evaluation_funct):\n",
    "\n",
    "    # First we calculate the starting global best position of the swarm\n",
    "    best_global_position, global_opt = global_optimum(swarm)\n",
    "\n",
    "    # Calculate the coefficient needed for updating the velocity of the particles.\n",
    "    c1, c2 = acceleration_coefficient(lower_bound,upper_bound)\n",
    "\n",
    "    #w = 0.9\n",
    "\n",
    "    # set the termination criteria\n",
    "    criteria_not_reach = True\n",
    "\n",
    "    while criteria_not_reach:\n",
    "\n",
    "        for particle in swarm:\n",
    "            ## We need to calculate the new velocity:\",\n",
    "            particle.VelocityCalculator(c1, c2, best_global_position, v_max = v_max)\n",
    "\n",
    "            ## Now we can calculate the new position:\\n\",\n",
    "            particle.PositionCalculator(particle.velocity)\n",
    "\n",
    "            ## We need to evaluate again the fitness function\\n\",\n",
    "            particle.FitnessCalculator(particle.position, evaluation_funct)\n",
    "\n",
    "            ## With the new position calculated we have to update the local best position:\n",
    "            particle.BestLocal(problem = 'minimum')\n",
    "\n",
    "            #print('New velocity: ', particle.velocity, '\\n New position: ', particle.position, '\\n New fitness: ', particle.fitness , '\\n Best local position: ', particle.bestp, 'Best local fitness', particle.bestfit ,'\\n')\n",
    "\n",
    "\n",
    "            # w /= 2 #at each iteraton w is halved (IN THIS CASE I HAVE SET W TO A FIXED VALUE DIRECTLY INTO THE CLASS PARTICLE )\n",
    "\n",
    "        # Then we update the global optimum\n",
    "        best_position, opt = global_optimum(swarm)\n",
    "        if opt< global_opt:\n",
    "            global_opt = opt\n",
    "            best_global_position = best_position\n",
    "        \n",
    "        # print('GLOBAL OPTIMUM: ', global_opt, 'GLOBAL OPT POSITION: ', best_global_position)\n",
    "\n",
    "        # we set the criteria depending on the number of iteration\n",
    "        if swarm[0].iteration == 200:\n",
    "            criteria_not_reach = False\n",
    "    \n",
    "    return best_global_position, global_opt"
   ]
  },
  {
   "cell_type": "code",
   "execution_count": 212,
   "metadata": {},
   "outputs": [],
   "source": [
    "def main():\n",
    "    swarm_size = 10\n",
    "    dim = 3\n",
    "    evaluation_funct = f\n",
    "    lower_bound=[0,0,0]\n",
    "    upper_bound = [10,10,10]\n",
    "    v_max = [3,3,3]\n",
    "\n",
    "    swarm = PSO_inizialization(swarm_size, dim, evaluation_funct, lower_bound, upper_bound)\n",
    "\n",
    "    best_global_position, global_opt = PSO_alg(swarm, lower_bound, upper_bound, v_max, evaluation_funct)\n",
    "    \n",
    "    print('Best position found: ', best_global_position, 'with an evaluation of: ',global_opt)"
   ]
  },
  {
   "cell_type": "code",
   "execution_count": 213,
   "metadata": {},
   "outputs": [
    {
     "name": "stdout",
     "output_type": "stream",
     "text": [
      "Best position found:  [ 0.19178194  0.04518806 -0.48034884] with an evaluation of:  0.2695572831687413\n"
     ]
    }
   ],
   "source": [
    "main()"
   ]
  }
 ],
 "metadata": {
  "kernelspec": {
   "display_name": "Python 3",
   "language": "python",
   "name": "python3"
  },
  "language_info": {
   "codemirror_mode": {
    "name": "ipython",
    "version": 3
   },
   "file_extension": ".py",
   "mimetype": "text/x-python",
   "name": "python",
   "nbconvert_exporter": "python",
   "pygments_lexer": "ipython3",
   "version": "3.9.13"
  },
  "orig_nbformat": 4,
  "vscode": {
   "interpreter": {
    "hash": "e6bcbf509b47dea4281d29aa6a77a5003802b8ca800c73ace5846e18222006c9"
   }
  }
 },
 "nbformat": 4,
 "nbformat_minor": 2
}
