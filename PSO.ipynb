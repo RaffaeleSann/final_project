{
 "cells": [
  {
   "attachments": {},
   "cell_type": "markdown",
   "metadata": {},
   "source": [
    "# **Particle Swarm optimization**\n",
    "class Particle:\n",
    "- Define the particle object with the **__init__**. Every particle must have a position, a velocity.\n",
    "- Define a function, called **FitnessCalculator**, that computes the fitness value of the particle. Its indipendent variable is the **accuracy metric** of the neural network.\n",
    "- Define a function, called **PositionCalculator**\n",
    "- Define a function, called **VelocityCalculator**\n"
   ]
  },
  {
   "cell_type": "code",
   "execution_count": 34,
   "metadata": {},
   "outputs": [],
   "source": [
    "class Particle:\n",
    "\n",
    "    def __init__(self, position, velocity):\n",
    "\n",
    "        self.position = position\n",
    "        self.velocity = velocity\n",
    "\n",
    "    def GetPosition(self):\n",
    "\n",
    "        return self.position\n",
    "    \n",
    "    def GetVelocity(self):\n",
    "\n",
    "        return self.velocity\n",
    "\n",
    "    def FitnessCalculator(accuracy_metric):\n",
    "\n",
    "        fitness = accuracy_metric\n",
    "\n",
    "        return fitness\n",
    "\n",
    "\n",
    "    def VelocityCalculator(self, first_cost, sec_cost, random_1, random_2, best_loc_pos, best_glob_pos):\n",
    "\n",
    "        self.velocity = self.velocity + first_cost*random_1*(best_loc_pos - self.position) + sec_cost*random_2*(best_glob_pos - self.position)\n",
    "\n",
    "\n",
    "    def PositionCalculator(self, new_vel):\n",
    "\n",
    "        self.position = self.position + new_vel\n",
    "\n"
   ]
  },
  {
   "cell_type": "code",
   "execution_count": 35,
   "metadata": {},
   "outputs": [],
   "source": [
    "import random\n",
    "\n",
    "def InitializeSwarm(swarm_size, dimensionality):\n",
    "\n",
    "    swarm_list = []\n",
    "    for particle in range(swarm_size):\n",
    "        position = random.random()\n",
    "        velocity = random.random()\n",
    "        part = Particle(position, velocity)\n",
    "        part_pos = part.GetPosition()\n",
    "        part_vel = part.GetVelocity()\n",
    "        swarm_list.append([part_pos, part_vel])\n",
    "\n",
    "    return swarm_list\n",
    "\n",
    "\n",
    "def EvaluateFitness(foo):\n",
    "\n",
    "    return foo\n",
    "\n",
    "\n",
    "def PsoAlgorithm(swarm_size, dimensionality, optimal_value):\n",
    "\n",
    "    #first of all we initialize the swarm: it will be a list of particles\n",
    "    swarm_list = InitializeSwarm(swarm_size, dimensionality)\n",
    "\n",
    "    #we run the neural network for every particle in the swarm list: the neural netw function\n",
    "    #returns the fitness function that the particle has reached\n",
    "    termination_criteria = False\n",
    "    first_cost = random.randrange(0, 10)\n",
    "    second_cost = random.randrange(0, 10)\n",
    "    while termination_criteria == False:\n",
    "        fitness_list = []\n",
    "        for particle in range(len(swarm_list)):\n",
    "            fitness_list.append(EvaluateFitness(swarm_list[particle][0]))\n",
    "        \n",
    "        if max(fitness_list) > optimal_value:\n",
    "            termination_criteria == True\n",
    "        \n",
    "        for particle in range(len(swarm_list)):\n",
    "            unif_rand_1 = random.uniform(0, 1)\n",
    "            unif_rand_2 = random.uniform(0, 1)\n",
    "            part = Particle(swarm_list[particle][0], swarm_list[particle][1])\n",
    "            swarm_list[particle][1] = part.VelocityCalculator()\n",
    "\n"
   ]
  },
  {
   "cell_type": "code",
   "execution_count": 36,
   "metadata": {},
   "outputs": [
    {
     "name": "stdout",
     "output_type": "stream",
     "text": [
      "[[0.842930184823397, 0.8698229911253085], [0.6333368271685613, 0.0017555492633626324], [0.5292328904296647, 0.16423373269653319]]\n"
     ]
    }
   ],
   "source": [
    "print(PsoAlgorithm(3,1))"
   ]
  },
  {
   "cell_type": "code",
   "execution_count": 37,
   "metadata": {},
   "outputs": [
    {
     "name": "stdout",
     "output_type": "stream",
     "text": [
      "<built-in method random of Random object at 0x000002C6B5339350>\n"
     ]
    }
   ],
   "source": [
    "import random \n",
    "\n",
    "print(random.random)"
   ]
  }
 ],
 "metadata": {
  "kernelspec": {
   "display_name": "base",
   "language": "python",
   "name": "python3"
  },
  "language_info": {
   "codemirror_mode": {
    "name": "ipython",
    "version": 3
   },
   "file_extension": ".py",
   "mimetype": "text/x-python",
   "name": "python",
   "nbconvert_exporter": "python",
   "pygments_lexer": "ipython3",
   "version": "3.9.13"
  },
  "orig_nbformat": 4,
  "vscode": {
   "interpreter": {
    "hash": "4f2754a928aedcd382144edcd06d5d2286739023af823e2fc35c1411a6f04b94"
   }
  }
 },
 "nbformat": 4,
 "nbformat_minor": 2
}
