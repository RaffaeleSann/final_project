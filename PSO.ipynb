{
 "cells": [
  {
   "attachments": {},
   "cell_type": "markdown",
   "metadata": {},
   "source": [
    "# **Particle Swarm optimization**\n",
    "class Particle:\n",
    "- Define the particle object with the **__init__**. Every particle must have a position, a velocity.\n",
    "- Define a function, called **FitnessCalculator**, that computes the fitness value of the particle. Its indipendent variable is the **accuracy metric** of the neural network.\n",
    "- Define a function, called **PositionCalculator**\n",
    "- Define a function, called **VelocityCalculator**\n"
   ]
  },
  {
   "cell_type": "code",
   "execution_count": 28,
   "metadata": {},
   "outputs": [],
   "source": [
    "import numpy as np\n",
    "import random\n",
    "from particle import Particle"
   ]
  },
  {
   "cell_type": "code",
   "execution_count": 29,
   "metadata": {},
   "outputs": [],
   "source": [
    "def InitializeSwarm(swarm_size, dimensionality, lower_bound, upper_bound):\n",
    "    '''It takes as input the swarm size (number of particles I want to create, the dimensionality of the swarm (number of parameter for each particle) and the lower and upper bound of the parameter (that are two lists))'''\n",
    "\n",
    "    #np.random.seed(3)\n",
    "    # Usually the positions of particles are initialized to uniformly cover the search space\n",
    "    swarm_list = []\n",
    "    for particle in range(swarm_size):\n",
    "        position = np.random.uniform(lower_bound, upper_bound, dimensionality)\n",
    "\n",
    "        velocity = np.zeros(dimensionality)\n",
    "        # velocity = np.random.random(dimensionality)\n",
    "\n",
    "        part = Particle(position, velocity)\n",
    "        swarm_list.append(part)\n",
    "\n",
    "    return swarm_list"
   ]
  },
  {
   "cell_type": "code",
   "execution_count": 30,
   "metadata": {},
   "outputs": [],
   "source": [
    "# Let's first define the function we want to use for the evaluation:\n",
    "\n",
    "def f(lista):\n",
    "    '''Definisco una funzione f che prende in input una lista di tre elementi (ovviamente va cambiata se cambio la swarm size)'''\n",
    "    return(lista[0]**2+lista[1]**2+lista[2]**2)"
   ]
  },
  {
   "cell_type": "code",
   "execution_count": 31,
   "metadata": {},
   "outputs": [],
   "source": [
    "def global_optimum(swarm):\n",
    "    '''takes as input a swarm of particles and return the position of global optimum and the value of the fitness function in that global optimum'''\n",
    "\n",
    "    global_opt = (min([particle.bestfit for particle in swarm]))\n",
    "    best_global_position = swarm[np.argmin(np.array([particle.bestfit for particle in swarm]))].position\n",
    "\n",
    "    return best_global_position, global_opt  "
   ]
  },
  {
   "cell_type": "code",
   "execution_count": 32,
   "metadata": {},
   "outputs": [],
   "source": [
    "def acceleration_coefficient(iteration, total_iterations):\n",
    "\n",
    "    c1_min = 0.5\n",
    "    c1_max = 2.5\n",
    "    c2_min = 0.5\n",
    "    c2_max = 2.5\n",
    "\n",
    "    c1 = (c1_min-c1_max)*(iteration/total_iterations) + c1_max\n",
    "    c2 = (c2_max-c2_min)*(iteration/total_iterations) + c2_min\n",
    "    return c1,c2\n"
   ]
  },
  {
   "cell_type": "code",
   "execution_count": 33,
   "metadata": {},
   "outputs": [],
   "source": [
    "def PSO_inizialization(swarm_size, dim, evaluation_funct, lower_bound, upper_bound):\n",
    "    swarm = InitializeSwarm(swarm_size, dim, lower_bound, upper_bound)\n",
    "\n",
    "    #First we need to evaluate each particle\n",
    "\n",
    "    for particle in swarm:\n",
    "        particle.FitnessCalculator(particle.position, evaluation_funct)\n",
    "\n",
    "        # When we inizialize the swarm we need also to calculate the local optimum:\n",
    "        particle.BestLocal(problem = 'minimum')\n",
    "\n",
    "    return(swarm)"
   ]
  },
  {
   "cell_type": "code",
   "execution_count": 34,
   "metadata": {},
   "outputs": [],
   "source": [
    "def PSO_alg(swarm, lower_bound, upper_bound, v_max, evaluation_funct, max_iteration):\n",
    "\n",
    "    # First we calculate the starting global best position of the swarm\n",
    "    best_global_position, global_opt = global_optimum(swarm)\n",
    "\n",
    "    # Calculate the coefficient needed for updating the velocity of the particles.\n",
    "    c1, c2 = acceleration_coefficient(swarm[0].iteration, max_iteration)\n",
    "\n",
    "    # set the termination criteria\n",
    "    criteria_not_reach = True\n",
    "\n",
    "    while criteria_not_reach:\n",
    "\n",
    "        for particle in swarm:\n",
    "            ## We need to calculate the new velocity:\",\n",
    "            particle.VelocityCalculator(c1, c2, best_global_position, w_schedule = 'nonlinearly decreasing', v_max = v_max)\n",
    "\n",
    "            ## We can calculate the new position:\",\n",
    "            particle.PositionCalculator(lower_bound, upper_bound, evaluation_funct, problem_type = 'minimum')\n",
    "\n",
    "            #print('New velocity: ', particle.velocity, '\\n New position: ', particle.position, '\\n New fitness: ', particle.fitness , '\\n Best local position: ', particle.bestp, 'Best local fitness', particle.bestfit ,'\\n')\n",
    "\n",
    "\n",
    "        # Then we update the global optimum\n",
    "        best_position, opt = global_optimum(swarm)\n",
    "        if opt< global_opt:\n",
    "            global_opt = opt\n",
    "            best_global_position = best_position\n",
    "        \n",
    "        # print('GLOBAL OPTIMUM: ', global_opt, 'GLOBAL OPT POSITION: ', best_global_position)\n",
    "\n",
    "        # we set the criteria depending on the number of iteration\n",
    "        if swarm[0].iteration == max_iteration:\n",
    "            criteria_not_reach = False\n",
    "    \n",
    "    return best_global_position, global_opt"
   ]
  },
  {
   "cell_type": "code",
   "execution_count": 35,
   "metadata": {},
   "outputs": [],
   "source": [
    "def main():\n",
    "    swarm_size = 10\n",
    "    dim = 3\n",
    "    evaluation_funct = f\n",
    "    lower_bound=[0,0,0]\n",
    "    upper_bound = [10,10,10]\n",
    "    v_max = [3,3,3]\n",
    "    max_iteration = 200\n",
    "\n",
    "    swarm = PSO_inizialization(swarm_size, dim, evaluation_funct, lower_bound, upper_bound)\n",
    "\n",
    "    best_global_position, global_opt = PSO_alg(swarm, lower_bound, upper_bound, v_max, evaluation_funct, max_iteration)\n",
    "    \n",
    "    print('Best position found: ', best_global_position, 'with an evaluation of: ',global_opt)"
   ]
  },
  {
   "cell_type": "code",
   "execution_count": 36,
   "metadata": {},
   "outputs": [
    {
     "ename": "AttributeError",
     "evalue": "'bool' object has no attribute 'any'",
     "output_type": "error",
     "traceback": [
      "\u001b[1;31m---------------------------------------------------------------------------\u001b[0m",
      "\u001b[1;31mAttributeError\u001b[0m                            Traceback (most recent call last)",
      "Cell \u001b[1;32mIn [36], line 1\u001b[0m\n\u001b[1;32m----> 1\u001b[0m main()\n",
      "Cell \u001b[1;32mIn [35], line 12\u001b[0m, in \u001b[0;36mmain\u001b[1;34m()\u001b[0m\n\u001b[0;32m      8\u001b[0m max_iteration \u001b[39m=\u001b[39m \u001b[39m200\u001b[39m\n\u001b[0;32m     10\u001b[0m swarm \u001b[39m=\u001b[39m PSO_inizialization(swarm_size, dim, evaluation_funct, lower_bound, upper_bound)\n\u001b[1;32m---> 12\u001b[0m best_global_position, global_opt \u001b[39m=\u001b[39m PSO_alg(swarm, lower_bound, upper_bound, v_max, evaluation_funct, max_iteration)\n\u001b[0;32m     14\u001b[0m \u001b[39mprint\u001b[39m(\u001b[39m'\u001b[39m\u001b[39mBest position found: \u001b[39m\u001b[39m'\u001b[39m, best_global_position, \u001b[39m'\u001b[39m\u001b[39mwith an evaluation of: \u001b[39m\u001b[39m'\u001b[39m,global_opt)\n",
      "Cell \u001b[1;32mIn [34], line 18\u001b[0m, in \u001b[0;36mPSO_alg\u001b[1;34m(swarm, lower_bound, upper_bound, v_max, evaluation_funct, max_iteration)\u001b[0m\n\u001b[0;32m     14\u001b[0m \u001b[39mwhile\u001b[39;00m criteria_not_reach:\n\u001b[0;32m     16\u001b[0m     \u001b[39mfor\u001b[39;00m particle \u001b[39min\u001b[39;00m swarm:\n\u001b[0;32m     17\u001b[0m         \u001b[39m## We need to calculate the new velocity:\",\u001b[39;00m\n\u001b[1;32m---> 18\u001b[0m         particle\u001b[39m.\u001b[39;49mVelocityCalculator(c1, c2, best_global_position, w_schedule \u001b[39m=\u001b[39;49m \u001b[39m'\u001b[39;49m\u001b[39mnonlinearly decreasing\u001b[39;49m\u001b[39m'\u001b[39;49m, v_max \u001b[39m=\u001b[39;49m v_max)\n\u001b[0;32m     20\u001b[0m         \u001b[39m## Now we can calculate the new position:\",\u001b[39;00m\n\u001b[0;32m     21\u001b[0m         particle\u001b[39m.\u001b[39mPositionCalculator(particle\u001b[39m.\u001b[39mvelocity)\n",
      "File \u001b[1;32mc:\\Users\\MARIELLA\\Desktop\\final_project\\particle.py:80\u001b[0m, in \u001b[0;36mParticle.VelocityCalculator\u001b[1;34m(self, c1, c2, best_glob_pos, w_schedule, w, v_max)\u001b[0m\n\u001b[0;32m     77\u001b[0m     \u001b[39mself\u001b[39m\u001b[39m.\u001b[39mvelocity \u001b[39m=\u001b[39m velocity\n\u001b[0;32m     79\u001b[0m \u001b[39m#let's update w\u001b[39;00m\n\u001b[1;32m---> 80\u001b[0m w \u001b[39m=\u001b[39m \u001b[39mself\u001b[39;49m\u001b[39m.\u001b[39;49minertia_coefficient(c1, c2, random_1, random_2, old_w \u001b[39m=\u001b[39;49m w, schedule_type \u001b[39m=\u001b[39;49m w_schedule)\n\u001b[0;32m     82\u001b[0m \u001b[39mreturn\u001b[39;00m \u001b[39mself\u001b[39m\n",
      "File \u001b[1;32mc:\\Users\\MARIELLA\\Desktop\\final_project\\particle.py:52\u001b[0m, in \u001b[0;36mParticle.inertia_coefficient\u001b[1;34m(self, c1, c2, random_1, random_2, max_iter, old_w, schedule_type)\u001b[0m\n\u001b[0;32m     49\u001b[0m     \u001b[39mraise\u001b[39;00m \u001b[39mException\u001b[39;00m(\u001b[39m'\u001b[39m\u001b[39mYou must specify a valid type for w\u001b[39m\u001b[39m'\u001b[39m)\n\u001b[0;32m     51\u001b[0m \u001b[39m# w > min_w guarantees convergent particle trajectories. If this condition is not satisfied, divergent or cyclic behavior may occur.\u001b[39;00m\n\u001b[1;32m---> 52\u001b[0m \u001b[39mif\u001b[39;00m (w \u001b[39m<\u001b[39;49m min_w)\u001b[39m.\u001b[39;49many:\n\u001b[0;32m     53\u001b[0m     w \u001b[39m=\u001b[39m min_w\n\u001b[0;32m     54\u001b[0m \u001b[39mreturn\u001b[39;00m w\n",
      "\u001b[1;31mAttributeError\u001b[0m: 'bool' object has no attribute 'any'"
     ]
    }
   ],
   "source": [
    "main()"
   ]
  }
 ],
 "metadata": {
  "kernelspec": {
   "display_name": "Python 3",
   "language": "python",
   "name": "python3"
  },
  "language_info": {
   "codemirror_mode": {
    "name": "ipython",
    "version": 3
   },
   "file_extension": ".py",
   "mimetype": "text/x-python",
   "name": "python",
   "nbconvert_exporter": "python",
   "pygments_lexer": "ipython3",
   "version": "3.9.13"
  },
  "orig_nbformat": 4,
  "vscode": {
   "interpreter": {
    "hash": "e6bcbf509b47dea4281d29aa6a77a5003802b8ca800c73ace5846e18222006c9"
   }
  }
 },
 "nbformat": 4,
 "nbformat_minor": 2
}
