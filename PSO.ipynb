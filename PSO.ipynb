{
 "cells": [
  {
   "attachments": {},
   "cell_type": "markdown",
   "metadata": {},
   "source": [
    "# **Particle Swarm optimization**\n",
    "class Particle:\n",
    "- Define the particle object with the **__init__**. Every particle must have a position, a velocity.\n",
    "- Define a function, called **FitnessCalculator**, that computes the fitness value of the particle. Its indipendent variable is the **accuracy metric** of the neural network.\n",
    "- Define a function, called **PositionCalculator**\n",
    "- Define a function, called **VelocityCalculator**\n"
   ]
  },
  {
   "cell_type": "code",
   "execution_count": null,
   "metadata": {},
   "outputs": [],
   "source": [
    "import numpy as np\n",
    "import random"
   ]
  },
  {
   "cell_type": "code",
   "execution_count": 34,
   "metadata": {},
   "outputs": [],
   "source": [
    "class Particle:\n",
    "\n",
    "    def __init__(self, position, velocity ):\n",
    "        '''position and velocity are vectors (lists)'''\n",
    "\n",
    "        self.position = position\n",
    "        self.velocity = velocity\n",
    "        self.bestp = position\n",
    "        self.iteration = 0\n",
    "        \n",
    "        # I need to inizialize the best position and also the fitness related to the best position\n",
    "        # self.bestfitness = self.FitnessCalculator(self.bestp, model)\n",
    "\n",

    "\n",
    "    def FitnessCalculator(self, position, accuracy):\n",
    "        '''It takes as input the model and the parameter (which is the particle position).\n",
    "         Calculates the accuracy (or loss, we need to decide) of the model and return it. '''\n",
    "        fitness = accuracy(position)\n",
    "        self.fitness = fitness\n",
    "        return self\n",
    "\n",
    "\n",
    "    def VelocityCalculator(self, c1, c2, best_glob_pos, v_max):\n",
    "        \n",
    "        #np.random.seed(3)\n",
    "\n",
    "        random_1 = np.random.random(len(self.position))\n",
    "        random_2 = np.random.random(len(self.position))\n",
    "        #print('r1: ', random_1, '\\n r2: ', random_2)\n",
    "        w = c1*random_1 + c2*random_2\n",
    "\n",
    "        velocity = w*self.velocity + c1*random_1*(self.bestp - self.position) + c2*random_2*(best_glob_pos - self.position)\n",
    "\n",
    "        # velocity quickly explodes to large values, especially for particles far from the neighborhood best and personal best positions. Consequently, particles have large position updates, which result in particles leaving the boundaries of the search space – the particles diverge. To control the global exploration of particles, velocities are clamped to stay within boundary constraints.\n",
    "        \n",
    "        new_velocity = np.zeros(len(velocity)) #I inizialize an array with all zeros and then I change the elements\n",
    "        for i in range (len(velocity)):\n",
    "\n",
    "            if velocity[i] > v_max[i]:\n",
    "                new_velocity[i] = v_max[i]\n",
    "            else:\n",
    "                new_velocity[i] = velocity[i]\n",
    "                \n",
    "            self.velocity = new_velocity\n",
    "\n",
    "\n",
    "    def PositionCalculator(self, new_vel):\n",
    "        self.iteration += 1\n",
    "        \n",
    "        self.position = self.position + new_vel\n",
    "        return self\n",
    "\n",
    "    def BestLocal(self, problem):\n",
    "        '''Takes as input the particle and the type of optimization problem (problem could be minimum or maximum)\n",
    "        and calculates best fitness and best position '''\n",
    "        if self.iteration == 0:\n",
    "            self.bestfit = self.fitness\n",
    "        if problem == 'minimum':\n",
    "            if self.fitness < self.bestfit:\n",
    "                self.bestfit = self.fitness\n",
    "                self.bestp = self.position\n",
    "        elif problem == 'maximum':\n",
    "            if self.fitness > self.bestfit:\n",
    "                self.bestfit = self.fitness\n",
    "                self.bestp = self.position\n",
    "        else:\n",
    "            return \"Error! problem must be: 'minimum' or 'maximum' \"    \n",
    "        return self \n"
    "\n",
    "\n"
   ]
  },
  {
   "cell_type": "code",
   "execution_count": 212,
   "metadata": {},
   "outputs": [
    {
     "data": {
      "text/plain": [
       "array([ 3.07226721,  9.92522837, 16.56690339])"
      ]
     },
     "execution_count": 212,
     "metadata": {},
     "output_type": "execute_result"
    }
   ],
   "source": [
    "np.random.uniform([0,8,15],[7,10,20],3)"
   ]
  },
  {
   "cell_type": "code",
   "execution_count": 213,
   "metadata": {},
   "outputs": [
    {
     "name": "stdout",
     "output_type": "stream",
     "text": [
      "[2.98572735 4.87831939 4.6138898 ] [0. 0. 0.]\n",
      "[8.65958408 9.72111178 3.13780296] [0. 0. 0.]\n",
      "[0.94294071 6.84393148 1.59211169] [0. 0. 0.]\n",
      "[6.41970341 9.86231113 0.64878065] [0. 0. 0.]\n",
      "[6.86984997 7.09223133 4.98656145] [0. 0. 0.]\n",
      "[2.86402963 1.40387293 4.74263986] [0. 0. 0.]\n",
      "[6.63436775 8.59544191 3.14540857] [0. 0. 0.]\n",
      "[2.79055817 4.57209836 1.46669097] [0. 0. 0.]\n",
      "[9.60222886 8.69698785 3.51500756] [0. 0. 0.]\n",
      "[5.86682661 3.91492633 2.70674017] [0. 0. 0.]\n"
     ]
    }
   ],
   "source": [
    "import random\n",
    "\n",
    "def InitializeSwarm(swarm_size, dimensionality, lower_bound, upper_bound):\n",
    "    '''It takes as input the swarm size (number of particles I want to create, the dimensionality of the swarm (number of parameter for each particle) and the lower and upper bound of the parameter (that are two lists))'''\n",
    "    #np.random.seed(3)\n",
    "    # Usually the positions of particles are initialized to uniformly cover the search space\n",
    "    swarm_list = []\n",
    "    for particle in range(swarm_size):\n",
    "        position = np.random.uniform(lower_bound, upper_bound, dimensionality)\n",
    "        velocity = np.zeros(dimensionality)\n",
    "        # velocity = np.random.random(dimensionality)\n",
    "\n",
    "        part = Particle(position, velocity)\n",
    "        swarm_list.append(part)\n",
    "\n",
    "    return swarm_list\n",
    "\n",
    "\n",
    
