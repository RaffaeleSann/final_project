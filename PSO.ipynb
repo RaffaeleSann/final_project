{
 "cells": [
  {
   "attachments": {},
   "cell_type": "markdown",
   "metadata": {},
   "source": [
    "# **Particle Swarm optimization**\n",
    "class Particle:\n",
    "- Define the particle object with the **__init__**. Every particle must have a position, a velocity.\n",
    "- Define a function, called **FitnessCalculator**, that computes the fitness value of the particle. Its indipendent variable is the **accuracy metric** of the neural network.\n",
    "- Define a function, called **PositionCalculator**\n",
    "- Define a function, called **VelocityCalculator**\n"
   ]
  },
  {
   "cell_type": "code",
   "execution_count": null,
   "metadata": {},
   "outputs": [],
   "source": [
    "import numpy as np"
   ]
  },
  {
   "cell_type": "code",
   "execution_count": 34,
   "metadata": {},
   "outputs": [],
   "source": [
    "class Particle:\n",
    "\n",
    "    def __init__(self, position, velocity ):\n",
    "        '''position and velocity are vectors (lists)'''\n",
    "\n",
    "        self.position = position\n",
    "        self.velocity = velocity\n",
    "        self.bestp = position\n",
    "        # I need to inizialize the best position and also the fitness related to the best position\n",
    "        # self.bestfitness = self.FitnessCalculator(self.bestp, model)\n",
    "\n",
    "    def GetPosition(self):\n",
    "\n",
    "        return self.position\n",
    "    \n",
    "    def GetVelocity(self):\n",
    "\n",
    "        return self.velocity\n",
    "\n",
    "    def FitnessCalculator(self, parameter, model):\n",
    "        '''It takes as input the model and the parameter (which isthe particle position).\n",
    "         Calculates the accuracy (or loss, we need to decide) of the model and return it. '''\n",
    "        # Ho messo model.accuracy, poi quando definiamo il modello credo qui vada messa la parte proprio del training per ritornare poi l'accuracy o la loss in base a come vogliamo fare noi.\n",
    "        self.fitness = model(parameter).accuracy\n",
    "        return self\n",
    "\n",
    "\n",
    "    def VelocityCalculator(self, w, c1, c2, random_1, random_2, best_glob_pos):\n",
    "\n",
    "        self.velocity = w*self.velocity + c1*random_1*(self.bestp - self.position) + c2*random_2*(best_glob_pos - self.position)\n",
    "\n",
    "\n",
    "    def PositionCalculator(self, new_vel):\n",
    "\n",
    "        for dimension in range(len(self.position)):\n",
    "            self.position[dimension] = self.position[dimension] + new_vel[dimension]\n",
    "\n",
    "        self.FitnessCalculator(self, self.position, model)\n",
    "        # Every time we update the positioon, we check also in the best personal position should be updated\n",
    "        if self.bestfitness > self.fitness:\n",
    "            self.bestp = self.position\n",
    "            self.bestfitness = self.fitness\n",
    "\n"
   ]
  },
  {
   "cell_type": "code",
   "execution_count": 35,
   "metadata": {},
   "outputs": [],
   "source": [
    "import random\n",
    "\n",
    "def InitializeSwarm(swarm_size, dimensionality):\n",
    "\n",
    "    swarm_list = []\n",
    "    for particle in range(swarm_size):\n",
    "        position = []\n",
    "        velocity = []\n",
    "        for dimension in dimensionality:\n",
    "            position.append(random.random())\n",
    "            velocity.append(random.random())\n",
    "\n",
    "        part = Particle(position, velocity)\n",
    "        part_pos = part.GetPosition()\n",
    "        part_vel = part.GetVelocity()\n",
    "        swarm_list.append([part_pos, part_vel])\n",
    "        # e se invece facessimo:\n",
    "        # swarm_list.append(part)\n",
    "\n",
    "    return swarm_list\n",
    "\n",
    "\n",
    "def EvaluateFitness(foo):\n",
    "\n",
    "    return foo\n",
    "\n",
    "\n",
    "def PsoAlgorithm(swarm_size, dimensionality, optimal_value):\n",
    "\n",
    "    #first of all we initialize the swarm: it will be a list of particles\n",
    "    swarm_list = InitializeSwarm(swarm_size, dimensionality)\n",
    "\n",
    "    #we run the neural network for every particle in the swarm list: the neural netw function\n",
    "    #returns the fitness function that the particle has reached\n",
    "    termination_criteria = False\n",
    "    first_cost = random.randrange(0, 10)\n",
    "    second_cost = random.randrange(0, 10)\n",
    "    best_locals_pos = [particle[0] for particle in swarm_list]\n",
    "    best_global_pos_index = best_locals_pos.index(max(EvaluateFitness(best_locals_pos)))  #ATTENZIONE: DIPENDE DA COME ANDRò A DEFINIRE EvaluateFitness\n",
    "    # quindi voglio che EvaluateFitness agisca su una lista di posizioni: quindi una lista di liste d-dim\n",
    "    best_global_pos = swarm_list[best_global_pos_index][0]\n",
    "    while termination_criteria == False:\n",
    "        '''fitness_list = []\n",
    "        #best_locals_pos = [particle[0] for particle in swarm_list]\n",
    "        for particle in range(len(swarm_list)):\n",
    "            fitness_list.append(EvaluateFitness(swarm_list[particle][0]))   #the fitness value will be dependent from particle position\n",
    "        \n",
    "        \n",
    "        index_best_global = fitness_list.index(max(fitness_list))  #sarà l'indice della particella la cui posizione è bestglobal\n",
    "        best_global_pos = swarm_list[index_best_global][0]  #swarm_list[index_best_global][0] è la posizione del bestglobal che a sua volta è un vettore d-dim'''\n",
    "        fitness_list = []\n",
    "        if max(fitness_list) > optimal_value:\n",
    "            termination_criteria == True\n",
    "\n",
    "        unif_rand_1 = []\n",
    "        unif_rand_2 = []\n",
    "        for dimension in range(dimensionality):\n",
    "            unif_rand_1.append(random.uniform(0, 1))\n",
    "            unif_rand_2.append(random.uniform(0, 1))\n",
    "        \n",
    "        for particle in range(len(swarm_list)):  #mo calcolo i nuovi \n",
    "        #for dimension in range(dimensionality):\n",
    "            part = Particle(swarm_list[particle][0], swarm_list[particle][1])\n",
    "            swarm_list[particle][1] = part.VelocityCalculator(first_cost = first_cost, second_cost = second_cost, random_1= \n",
    "                                                                unif_rand_1, random_2= unif_rand_2, best_loc_pos= best_locals_pos, \n",
    "                                                                best_glob_pos= best_global_pos)\n",
    "            swarm_list[particle][0] = part.PositionCalculator(swarm_list[particle][1])\n",
    "            if swarm_list[particle][]\n",
    "\n"
   ]
  },
  {
   "cell_type": "code",
   "execution_count": 1,
   "metadata": {},
   "outputs": [
    {
     "name": "stdout",
     "output_type": "stream",
     "text": [
      "[2, 6]\n"
     ]
    }
   ],
   "source": [
    "class pepi:\n",
    "    def __init__(self, position):\n",
    "        self.position = position\n",
    "\n",
    "    def getPosition(self):\n",
    "        return self.position\n",
    "    \n",
    "mamam = pepi([2,6])\n",
    "print(mamam.getPosition())"
   ]
  },
  {
   "cell_type": "code",
   "execution_count": 10,
   "metadata": {},
   "outputs": [
    {
     "name": "stdout",
     "output_type": "stream",
     "text": [
      "[0, 1, 4, 9]\n"
     ]
    }
   ],
   "source": [
    "a = 10\n",
    "print([i**2 for i in [0,1,2,3]])"
   ]
  }
 ],
 "metadata": {
  "kernelspec": {
   "display_name": "Python 3",
   "language": "python",
   "name": "python3"
  },
  "language_info": {
   "codemirror_mode": {
    "name": "ipython",
    "version": 3
   },
   "file_extension": ".py",
   "mimetype": "text/x-python",
   "name": "python",
   "nbconvert_exporter": "python",
   "pygments_lexer": "ipython3",
   "version": "3.9.13"
  },
  "orig_nbformat": 4,
  "vscode": {
   "interpreter": {
    "hash": "e6bcbf509b47dea4281d29aa6a77a5003802b8ca800c73ace5846e18222006c9"
   }
  }
 },
 "nbformat": 4,
 "nbformat_minor": 2
}
