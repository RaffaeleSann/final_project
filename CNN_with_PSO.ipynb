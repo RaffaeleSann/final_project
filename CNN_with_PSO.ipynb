{
 "cells": [
  {
   "cell_type": "code",
   "execution_count": 13,
   "metadata": {},
   "outputs": [
    {
     "name": "stdout",
     "output_type": "stream",
     "text": [
      "Requirement already satisfied: nbformat in c:\\users\\mariella\\miniconda3\\lib\\site-packages (5.7.3)\n",
      "Requirement already satisfied: jsonschema>=2.6 in c:\\users\\mariella\\miniconda3\\lib\\site-packages (from nbformat) (4.17.3)\n",
      "Requirement already satisfied: fastjsonschema in c:\\users\\mariella\\miniconda3\\lib\\site-packages (from nbformat) (2.16.3)\n",
      "Requirement already satisfied: jupyter-core in c:\\users\\mariella\\miniconda3\\lib\\site-packages (from nbformat) (5.2.0)\n",
      "Requirement already satisfied: traitlets>=5.1 in c:\\users\\mariella\\miniconda3\\lib\\site-packages (from nbformat) (5.9.0)\n",
      "Requirement already satisfied: pyrsistent!=0.17.0,!=0.17.1,!=0.17.2,>=0.14.0 in c:\\users\\mariella\\miniconda3\\lib\\site-packages (from jsonschema>=2.6->nbformat) (0.19.3)\n",
      "Requirement already satisfied: importlib-resources>=1.4.0 in c:\\users\\mariella\\miniconda3\\lib\\site-packages (from jsonschema>=2.6->nbformat) (5.12.0)\n",
      "Requirement already satisfied: attrs>=17.4.0 in c:\\users\\mariella\\miniconda3\\lib\\site-packages (from jsonschema>=2.6->nbformat) (22.2.0)\n",
      "Requirement already satisfied: pkgutil-resolve-name>=1.3.10 in c:\\users\\mariella\\miniconda3\\lib\\site-packages (from jsonschema>=2.6->nbformat) (1.3.10)\n",
      "Requirement already satisfied: pywin32>=1.0 in c:\\users\\mariella\\miniconda3\\lib\\site-packages (from jupyter-core->nbformat) (227)\n",
      "Requirement already satisfied: platformdirs>=2.5 in c:\\users\\mariella\\miniconda3\\lib\\site-packages (from jupyter-core->nbformat) (3.0.0)\n",
      "Requirement already satisfied: zipp>=3.1.0 in c:\\users\\mariella\\miniconda3\\lib\\site-packages (from importlib-resources>=1.4.0->jsonschema>=2.6->nbformat) (3.15.0)\n",
      "Note: you may need to restart the kernel to use updated packages.\n"
     ]
    }
   ],
   "source": [
    "%pip install nbformat\n",
    "\n",
    "%run PSO.ipynb #da qui possiamousare la funzione PSO"
   ]
  },
  {
   "cell_type": "code",
   "execution_count": null,
   "metadata": {},
   "outputs": [],
   "source": [
    "import tensorflow as tf\n",
    "from tensorflow import keras"
   ]
  },
  {
   "cell_type": "code",
   "execution_count": null,
   "metadata": {},
   "outputs": [],
   "source": [
    "(X_train, y_train), (X_test, y_test) = keras.datasets.cifar10.load_data()\n",
    "\n",
    "train_sample = X_train[:1000]\n",
    "train_sample_labels = y_train[:1000]\n",
    "\n",
    "test_sample = X_test[:200]\n",
    "test_sample_labels = y_test[:200]\n",
    "\n",
    "X_valid = X_train[1000:1250]\n",
    "y_valid = y_train[1000:1250]"
   ]
  },
  {
   "cell_type": "code",
   "execution_count": null,
   "metadata": {},
   "outputs": [],
   "source": [
    "train_ds=tf.data.Dataset.from_tensor_slices((train_sample,train_sample_labels))\n",
    "valid_ds=tf.data.Dataset.from_tensor_slices((X_valid,y_valid))\n",
    "test_ds=tf.data.Dataset.from_tensor_slices((test_sample,test_sample_labels))"
   ]
  },
  {
   "cell_type": "code",
   "execution_count": null,
   "metadata": {},
   "outputs": [],
   "source": [
    "def process_image(image,label):\n",
    "    image=tf.image.per_image_standardization(image)\n",
    "    image=tf.image.resize(image,(64,64))\n",
    "    \n",
    "    return image,label"
   ]
  },
  {
   "cell_type": "code",
   "execution_count": null,
   "metadata": {},
   "outputs": [],
   "source": [
    "model=keras.models.Sequential([\n",
    "    keras.layers.Conv2D(filters=128, kernel_size=(11,11), strides=(4,4), activation='relu', input_shape=(64,64,3)),\n",
    "    keras.layers.BatchNormalization(),\n",
    "    keras.layers.MaxPool2D(pool_size=(2,2)),\n",
    "    keras.layers.Conv2D(filters=256, kernel_size=(5,5), strides=(1,1), activation='relu', padding=\"same\"),\n",
    "    keras.layers.BatchNormalization(),\n",
    "    keras.layers.MaxPool2D(pool_size=(3,3)),\n",
    "    keras.layers.Conv2D(filters=256, kernel_size=(3,3), strides=(1,1), activation='relu', padding=\"same\"),\n",
    "    keras.layers.BatchNormalization(),\n",
    "    keras.layers.Conv2D(filters=256, kernel_size=(1,1), strides=(1,1), activation='relu', padding=\"same\"),\n",
    "    keras.layers.BatchNormalization(),\n",
    "    keras.layers.Conv2D(filters=256, kernel_size=(1,1), strides=(1,1), activation='relu', padding=\"same\"),\n",
    "    keras.layers.BatchNormalization(),\n",
    "    keras.layers.MaxPool2D(pool_size=(2,2)),\n",
    "    keras.layers.Flatten(),\n",
    "    keras.layers.Dense(1024,activation='relu'),\n",
    "    keras.layers.Dropout(0.5),\n",
    "    keras.layers.Dense(1024,activation='relu'),\n",
    "    keras.layers.Dropout(0.5),\n",
    "    keras.layers.Dense(10,activation='softmax')  \n",
    "    ])"
   ]
  },
  {
   "cell_type": "code",
   "execution_count": null,
   "metadata": {},
   "outputs": [
    {
     "name": "stdout",
     "output_type": "stream",
     "text": [
      "Best position found:  [-0.0200253   0.01446194 -0.0031102 ] with an evaluation of:  0.0006198339423027385\n"
     ]
    }
   ],
   "source": [
    "# mi serve una funzione che prenda in input solo i parametri della pso e restituisca l'accuracy\n",
    "\n",
    "def CNN(batch_size, optimizer, learning_rate, train_ds = train_ds, valid_ds = valid_ds, model = model):\n",
    "\n",
    "    train_ds_size=tf.data.experimental.cardinality(train_ds).numpy()\n",
    "    valid_ds_size=tf.data.experimental.cardinality(valid_ds).numpy()\n",
    "\n",
    "    train_ds = (train_ds.map(process_image).shuffle(buffer_size = train_ds_size).batch(batch_size=int(batch_size), drop_reminder = True))\n",
    "    valid_ds = (valid_ds.map(process_image).shuffle(buffer_size = valid_ds_size).batch(batch_size=int(batch_size), drop_reminder = True))\n",
    "\n",
    "    if optimizer < 1:\n",
    "        #use SGD\n",
    "        opt = tf.keras.optimizers.experimental.SGD(lr = learning_rate)\n",
    "        \n",
    "    if optimizer<=1 and optimizer < 2:\n",
    "        #use SGD with Momentum\n",
    "        opt = tf.keras.optimizers.experimental.SGD(momentum = 0.9, lr = learning_rate)\n",
    "\n",
    "    if optimizer >= 2 and optimizer < 3:\n",
    "        #use ADAM\n",
    "        opt = tf.keras.optimizers.Adam(lr = learning_rate)\n",
    "\n",
    "    if optimizer >= 3 and optimizer < 4:\n",
    "        #use RMSPROP\n",
    "        opt = tf.keras.optimizers.experimental.RMSprop(lr = learning_rate)\n",
    "\n",
    "    model.compile(\n",
    "    loss='sparse_categorical_crossentropy',\n",
    "    optimizer= opt,\n",
    "    metrics=['accuracy'])\n",
    "\n",
    "    print(model.summary())\n",
    "\n",
    "    history=model.fit(\n",
    "    train_ds,\n",
    "    epochs=5,\n",
    "    validation_data=valid_ds,\n",
    "    validation_freq=1)\n",
    "\n",
    "    last_accuracy = history.history['val_accuracy'][-1]\n",
    "\n",
    "    return last_accuracy\n"
   ]
  },
  {
   "cell_type": "code",
   "execution_count": 14,
   "metadata": {},
   "outputs": [
    {
     "name": "stdout",
     "output_type": "stream",
     "text": [
      "Best position found:  [ 1.72270273e-02  4.61055967e-05 -1.70497164e-02] with an evaluation of:  0.0005874654252639145\n"
     ]
    }
   ],
   "source": [
    "# Nella funzione CNN la prima componente è il batch_size, che varia tra 0 e 128.\n",
    "# La seconda componente è l'optimizer che varia tra 0 e 4. (tra 0 e 1 usa sgd, tra 1 e 2 usa sgd with momenutm, tra 2 e 3 usa adam e tra 3 e 4 usa rmsprop).\n",
    "# La terza componente il learning rate che varia tra 0.001 e 0.01\n",
    "\n",
    "PSO(swarm_size = 10,\n",
    "    dim = 3,\n",
    "    evaluation_funct = CNN,\n",
    "    lower_bound=[0,0,0.0001],\n",
    "    upper_bound = [128,4,0.01],\n",
    "    v_max = [64,2,0.001],\n",
    "    problem = 'maximum',\n",
    "    max_iteration = 200)"
   ]
  }
 ],
 "metadata": {
  "kernelspec": {
   "display_name": "Python 3",
   "language": "python",
   "name": "python3"
  },
  "language_info": {
   "codemirror_mode": {
    "name": "ipython",
    "version": 3
   },
   "file_extension": ".py",
   "mimetype": "text/x-python",
   "name": "python",
   "nbconvert_exporter": "python",
   "pygments_lexer": "ipython3",
   "version": "3.8.15"
  },
  "orig_nbformat": 4,
  "vscode": {
   "interpreter": {
    "hash": "f15b3b7541721a7ac1e1c80e85784ec7d18e6ad136b144e690e927a80e691a8b"
   }
  }
 },
 "nbformat": 4,
 "nbformat_minor": 2
}
